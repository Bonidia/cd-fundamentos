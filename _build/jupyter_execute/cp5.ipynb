{
 "cells": [
  {
   "cell_type": "markdown",
   "id": "1f0a0d37",
   "metadata": {},
   "source": [
    "# Transformação de Dados\n",
    "\n",
    "```{admonition} Importante\n",
    ":class: tip\n",
    "Para execução dos códigos, é necessário instalar as seguintes bibliotecas: \n",
    "\n",
    " - *!pip install AnonymizeDF*\n",
    "```\n",
    "\n",
    "## Anonimização de Dados"
   ]
  },
  {
   "cell_type": "code",
   "execution_count": 1,
   "id": "f3898e41",
   "metadata": {
    "tags": [
     "remove-output"
    ]
   },
   "outputs": [
    {
     "ename": "ModuleNotFoundError",
     "evalue": "No module named 'pandas'",
     "output_type": "error",
     "traceback": [
      "\u001b[0;31m---------------------------------------------------------------------------\u001b[0m",
      "\u001b[0;31mModuleNotFoundError\u001b[0m                       Traceback (most recent call last)",
      "Cell \u001b[0;32mIn[1], line 2\u001b[0m\n\u001b[1;32m      1\u001b[0m \u001b[38;5;66;03m# Importando as bibliotecas\u001b[39;00m\n\u001b[0;32m----> 2\u001b[0m \u001b[38;5;28;01mimport\u001b[39;00m\u001b[38;5;250m \u001b[39m\u001b[38;5;21;01mpandas\u001b[39;00m\u001b[38;5;250m \u001b[39m\u001b[38;5;28;01mas\u001b[39;00m\u001b[38;5;250m \u001b[39m\u001b[38;5;21;01mpd\u001b[39;00m\n\u001b[1;32m      3\u001b[0m \u001b[38;5;28;01mfrom\u001b[39;00m\u001b[38;5;250m \u001b[39m\u001b[38;5;21;01manonymizedf\u001b[39;00m\u001b[38;5;21;01m.\u001b[39;00m\u001b[38;5;21;01manonymizedf\u001b[39;00m\u001b[38;5;250m \u001b[39m\u001b[38;5;28;01mimport\u001b[39;00m anonymize\n\u001b[1;32m      5\u001b[0m \u001b[38;5;66;03m# Criando um DataFrame com as 3 primeiras amostras do exemplo anterior\u001b[39;00m\n",
      "\u001b[0;31mModuleNotFoundError\u001b[0m: No module named 'pandas'"
     ]
    }
   ],
   "source": [
    "# Importando as bibliotecas\n",
    "import pandas as pd\n",
    "from anonymizedf.anonymizedf import anonymize\n",
    "\n",
    "# Criando um DataFrame com as 3 primeiras amostras do exemplo anterior\n",
    "dados = {'Nome': ['Ana', 'Bárbara', 'Cláudia'],\n",
    "        'Altura': [175, 162, 161],\n",
    "        'Idade': [25, 37, 45],\n",
    "        'Pressão': [132, 90, 140],\n",
    "        'Temperatura': [38, 37, 39],\n",
    "        'Sexo': ['Feminino', 'Feminino', 'Feminino'],\n",
    "        'Escolaridade': ['Superior', 'Nenhuma', 'Superior'],\n",
    "        'Diagnóstico': ['Doente', 'Saudável', 'Saudável']}\n",
    "\n",
    "df = pd.DataFrame(dados)\n",
    "        \n",
    "# Anonimizando os dados\n",
    "an = anonymize(df)\n",
    "an.fake_names('Nome')\n",
    "an.fake_whole_numbers('Altura')\n",
    "an.fake_whole_numbers('Idade')\n",
    "an.fake_whole_numbers('Pressão')\n",
    "an.fake_whole_numbers('Temperatura')\n",
    "an.fake_categories('Sexo')\n",
    "an.fake_categories('Escolaridade')\n",
    "an.fake_categories('Diagnóstico')\n",
    "\n",
    "# an.fake_dates('Coluna') \n",
    "# an.fake_decimal_numbers('Coluna')\n",
    "\n",
    "# Dados anonimizados\n",
    "df.iloc[:, 8:16]"
   ]
  },
  {
   "cell_type": "markdown",
   "id": "87b2f19e",
   "metadata": {},
   "source": [
    "## Conversão de Valores entre Diferentes Tipos"
   ]
  },
  {
   "cell_type": "code",
   "execution_count": null,
   "id": "43eb7b53",
   "metadata": {},
   "outputs": [],
   "source": [
    "cidades = pd.DataFrame(\n",
    "    [\n",
    "        ['Paraná', 'Londrina', 575377, 1356.00, 'Quinto', 'Não'],\n",
    "        ['São Paulo', 'São Carlos', 254484, 1508.00, 'Quarto', 'Não'],\n",
    "        ['Santa Catarina', 'Florianópolis', 508826, 1798.00, 'Segundo', 'Sim'],\n",
    "        ['Paraná', 'Curitiba', 1963726, 2293.00, 'Primeiro', 'Sim'],\n",
    "        ['São Paulo', 'Campinas', 1223237, 1710.00, 'Terceiro', 'Não']\n",
    "    ], columns=['Estado', 'Cidade', 'Habitantes', 'Salário-Médio', 'Classificação', 'Capital'])"
   ]
  },
  {
   "cell_type": "code",
   "execution_count": null,
   "id": "0e9f14ef",
   "metadata": {},
   "outputs": [],
   "source": [
    "# Importando a função de transformação ordinal do scikit-learn\n",
    "from sklearn.preprocessing import OrdinalEncoder\n",
    "\n",
    "ordem = ['Primeiro', 'Segundo', 'Terceiro', 'Quarto', 'Quinto']\n",
    "codificador = OrdinalEncoder(categories=[ordem])\n",
    "cidades['Classificação'] = codificador.fit_transform(cidades[['Classificação']])"
   ]
  },
  {
   "cell_type": "code",
   "execution_count": null,
   "id": "a28dbb65",
   "metadata": {},
   "outputs": [],
   "source": [
    "# Importando a função de transformação binária do scikit-learn\n",
    "from sklearn.preprocessing import OneHotEncoder\n",
    "\n",
    "encoder = OneHotEncoder()\n",
    "\n",
    "estados = encoder.fit_transform(cidades[['Estado']]).toarray()\n",
    "estados = pd.DataFrame(estados, columns=encoder.categories_[0])\n",
    "cidades = pd.concat([cidades, estados], axis=1)\n",
    "\n",
    "# Removendo a coluna original com os dados nominais\n",
    "cidades.drop('Estado', axis=1, inplace=True)"
   ]
  },
  {
   "cell_type": "code",
   "execution_count": null,
   "id": "c30b4271",
   "metadata": {},
   "outputs": [],
   "source": [
    "estados = pd.get_dummies(cidades['Estado'])\n",
    "cidades = pd.concat([cidades, estados], axis=1)\n",
    "\n",
    "# Removendo a coluna original com os dados nominais\n",
    "cidades.drop('Estado', axis=1, inplace=True)"
   ]
  },
  {
   "cell_type": "code",
   "execution_count": null,
   "id": "0c99d5bd",
   "metadata": {},
   "outputs": [],
   "source": [
    "# Importando a função de transformação de scikit-learn\n",
    "from sklearn.preprocessing import LabelEncoder\n",
    "\n",
    "encoder = LabelEncoder()\n",
    "cidades['Capital'] = encoder.fit_transform(cidades[['Capital']])"
   ]
  },
  {
   "cell_type": "code",
   "execution_count": null,
   "id": "5dbc559d",
   "metadata": {},
   "outputs": [],
   "source": [
    "# Criando o DataFrame de idade\n",
    "df = pd.DataFrame({'Idade': [42, 15, 67, 55, \n",
    "                             1, 29, 75, 89, 4,\n",
    "                             10, 15, 38, 22, 77]})\n",
    "                        \n",
    "df['Label'] = pd.cut(x=df['Idade'], bins=[0, 3, 17, 70, 99],\n",
    "                     labels=['Bebê', 'Criança', \n",
    "                             'Adulto', 'Idoso'])\n",
    "df"
   ]
  },
  {
   "cell_type": "markdown",
   "id": "47bc3a84",
   "metadata": {},
   "source": [
    "## Transformação de Valores Numéricos"
   ]
  },
  {
   "cell_type": "code",
   "execution_count": null,
   "id": "0c81195c",
   "metadata": {},
   "outputs": [],
   "source": [
    "# Importando a biblioteca numpy\n",
    "import numpy as np\n",
    "\n",
    "#Criando um atributo randômico usando distribuição beta para teste \n",
    "dados = np.random.beta(a=4, b=15, size=300)\n",
    "\n",
    "#Transformação logarítmica\n",
    "dados_log = np.log(dados)\n",
    "dados_log \n",
    "\n",
    "#Transformação de raiz quadrada\n",
    "dados_sqrt = np.sqrt(dados)\n",
    "dados_sqrt\n",
    "\n",
    "#Transformação Módulo (valor absoluto)\n",
    "dados_absoluto = np.absolute(dados_log )\n",
    "dados_absoluto"
   ]
  },
  {
   "cell_type": "code",
   "execution_count": null,
   "id": "eaa6302d",
   "metadata": {},
   "outputs": [],
   "source": [
    "# Importando a função MinMaxScaler\n",
    "from sklearn.preprocessing import MinMaxScaler\n",
    "\n",
    "df = pd.DataFrame({'Valores': [1, 18, 0.5, 20, 10, 0.1, 15]})\n",
    "                        \n",
    "scaler = MinMaxScaler(feature_range=[0, 1])\n",
    "df_minmax = scaler.fit_transform(df)"
   ]
  },
  {
   "cell_type": "code",
   "execution_count": null,
   "id": "c76b48c7",
   "metadata": {},
   "outputs": [],
   "source": [
    "# Importando a função  StanderScaler\n",
    "from sklearn.preprocessing import StandardScaler\n",
    "\n",
    "df = pd.DataFrame({'Valores': [1, 18, 0.5, 20, 10, 0.1, 15]})\n",
    "                        \n",
    "scaler = StandardScaler()\n",
    "df_normal = scaler.fit_transform(df)\n",
    "df_normal"
   ]
  }
 ],
 "metadata": {
  "jupytext": {
   "formats": "md:myst",
   "text_representation": {
    "extension": ".md",
    "format_name": "myst",
    "format_version": 0.13,
    "jupytext_version": "1.11.5"
   }
  },
  "kernelspec": {
   "display_name": "Python 3",
   "language": "python",
   "name": "python3"
  },
  "language_info": {
   "codemirror_mode": {
    "name": "ipython",
    "version": 3
   },
   "file_extension": ".py",
   "mimetype": "text/x-python",
   "name": "python",
   "nbconvert_exporter": "python",
   "pygments_lexer": "ipython3",
   "version": "3.10.10"
  },
  "source_map": [
   13,
   27,
   61,
   66,
   77,
   86,
   100,
   108,
   116,
   126,
   131,
   151,
   161
  ]
 },
 "nbformat": 4,
 "nbformat_minor": 5
}