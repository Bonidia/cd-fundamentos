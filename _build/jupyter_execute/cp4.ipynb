{
 "cells": [
  {
   "cell_type": "markdown",
   "id": "3acd2070",
   "metadata": {},
   "source": [
    "# Qualidade de Dados\n",
    "\n",
    "\n",
    "## Valores Ausentes"
   ]
  },
  {
   "cell_type": "code",
   "execution_count": 1,
   "id": "c6a1b066",
   "metadata": {
    "tags": [
     "remove-output"
    ]
   },
   "outputs": [
    {
     "ename": "ModuleNotFoundError",
     "evalue": "No module named 'pandas'",
     "output_type": "error",
     "traceback": [
      "\u001b[0;31m---------------------------------------------------------------------------\u001b[0m",
      "\u001b[0;31mModuleNotFoundError\u001b[0m                       Traceback (most recent call last)",
      "Cell \u001b[0;32mIn[1], line 1\u001b[0m\n\u001b[0;32m----> 1\u001b[0m \u001b[38;5;28;01mimport\u001b[39;00m\u001b[38;5;250m \u001b[39m\u001b[38;5;21;01mpandas\u001b[39;00m\n\u001b[1;32m      3\u001b[0m df \u001b[38;5;241m=\u001b[39m pd\u001b[38;5;241m.\u001b[39mread_csv(\u001b[38;5;124m'\u001b[39m\u001b[38;5;124mnome_do_arquivo.csv\u001b[39m\u001b[38;5;124m'\u001b[39m)\n",
      "\u001b[0;31mModuleNotFoundError\u001b[0m: No module named 'pandas'"
     ]
    }
   ],
   "source": [
    "import pandas\n",
    "\n",
    "df = pd.read_csv('nome_do_arquivo.csv')"
   ]
  },
  {
   "cell_type": "code",
   "execution_count": null,
   "id": "569cd834",
   "metadata": {},
   "outputs": [],
   "source": [
    "# Identificando dados ausentes\n",
    "df.isnull().sum()\n",
    "\n",
    "# Remoção de objetos com valor ausente em qualquer atributo preditivo;\n",
    "df_obj = df.dropna(how='any')\n",
    "\n",
    "# Remoção de objetos com valor ausente em todos os atributos preditivos\n",
    "df_obj = df.dropna(how='all')\n",
    "\n",
    "# Remoção de objetos com valor ausente em qualquer/todos os atributos preditivos selecionados\n",
    "df_obj = df.dropna(how='any', subset=['Coluna1', 'Coluna2'])\n",
    "df_obj = df.dropna(how='all', subset=['Coluna1', 'Coluna2'])"
   ]
  },
  {
   "cell_type": "code",
   "execution_count": null,
   "id": "bfa8b075",
   "metadata": {},
   "outputs": [],
   "source": [
    "# Remoção de atributo preditivo com valor ausente em qualquer objeto\n",
    "df_pred = df.dropna(axis='columns')\n",
    "\n",
    "# Remoção de atributo preditivo com valor ausente em todos os objetos\n",
    "df_pred = df.dropna(axis='columns', how='all')\n",
    "\n",
    "# Remoção de atributo preditivo com valor ausente em um número determinado de objetos\n",
    "df_pred = df.dropna(axis='columns', thresh=3)"
   ]
  },
  {
   "cell_type": "markdown",
   "id": "f2df3442",
   "metadata": {},
   "source": [
    "## Preenchimento de Valores"
   ]
  },
  {
   "cell_type": "code",
   "execution_count": null,
   "id": "5f701708",
   "metadata": {},
   "outputs": [],
   "source": [
    "# Preencher com um valor constante\n",
    "df_tratamento = df.fillna(value=0)\n",
    "\n",
    "# Preencher com a média\n",
    "df[\"Coluna\"].fillna(df[\"Coluna\"].mean())\n",
    "\n",
    "# Preencher com a mediana\n",
    "df[\"Coluna\"].fillna(df[\"Coluna\"].median())\n",
    "\n",
    "# Preencher com a moda\n",
    "df[\"Coluna\"].fillna(df[\"Coluna\"].mode())\n",
    "\n",
    "# Preencher com o valor do próximo exemplo\n",
    "df_tratamento = df.fillna(method=\"bfill\")"
   ]
  },
  {
   "cell_type": "markdown",
   "id": "2ca2c518",
   "metadata": {},
   "source": [
    "## Valores Redundantes"
   ]
  },
  {
   "cell_type": "code",
   "execution_count": null,
   "id": "3dd5ac42",
   "metadata": {},
   "outputs": [],
   "source": [
    "# Encontrando dados duplicados\n",
    "df.duplicated()\n",
    "\n",
    "# Especificar a coluna que deseja encontrar dados duplicados\n",
    "df.duplicated([\"Coluna1\", \"Coluna2\"])\n",
    "\n",
    "# Apresentando dados duplicadas\n",
    "df[df.duplicated(keep=False)]\n",
    "\n",
    "# Contando dados duplicados\n",
    "df.duplicated().sum()\n",
    "\n",
    "# Removendo dados duplicadas\n",
    "df.drop_duplicates()\n",
    "\n",
    "# Removendo dados duplicados de uma coluna específica\n",
    "df.drop_duplicates([\"Coluna\"])"
   ]
  },
  {
   "cell_type": "markdown",
   "id": "5892c189",
   "metadata": {},
   "source": [
    "## Valores Outliers"
   ]
  },
  {
   "cell_type": "code",
   "execution_count": null,
   "id": "61fae8a1",
   "metadata": {},
   "outputs": [],
   "source": [
    "from scipy import stats\n",
    "\n",
    "z_df = df.apply(stats.zscore)\n",
    "df_filtered = df[(z_df < 3).all(axis=1)]"
   ]
  }
 ],
 "metadata": {
  "jupytext": {
   "formats": "md:myst",
   "text_representation": {
    "extension": ".md",
    "format_name": "myst",
    "format_version": 0.13,
    "jupytext_version": "1.11.5"
   }
  },
  "kernelspec": {
   "display_name": "Python 3",
   "language": "python",
   "name": "python3"
  },
  "language_info": {
   "codemirror_mode": {
    "name": "ipython",
    "version": 3
   },
   "file_extension": ".py",
   "mimetype": "text/x-python",
   "name": "python",
   "nbconvert_exporter": "python",
   "pygments_lexer": "ipython3",
   "version": "3.10.10"
  },
  "source_map": [
   13,
   20,
   27,
   42,
   51,
   56,
   71,
   76,
   94,
   99
  ]
 },
 "nbformat": 4,
 "nbformat_minor": 5
}