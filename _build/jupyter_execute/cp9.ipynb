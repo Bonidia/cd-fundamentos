{
 "cells": [
  {
   "cell_type": "markdown",
   "id": "282a6af8",
   "metadata": {},
   "source": [
    "# Avaliação, Ajuste e Seleção de Modelos\n",
    "\n",
    "```{admonition} Importante\n",
    ":class: tip\n",
    "Para execução dos códigos, é necessário instalar as seguintes bibliotecas: \n",
    "\n",
    " - *!pip install -U scikit-learn*\n",
    "```\n",
    "\n",
    "## Avaliação para Regressão"
   ]
  },
  {
   "cell_type": "code",
   "execution_count": 1,
   "id": "b982b9bc",
   "metadata": {
    "tags": [
     "remove-output"
    ]
   },
   "outputs": [
    {
     "ename": "ModuleNotFoundError",
     "evalue": "No module named 'pandas'",
     "output_type": "error",
     "traceback": [
      "\u001b[0;31m---------------------------------------------------------------------------\u001b[0m",
      "\u001b[0;31mModuleNotFoundError\u001b[0m                       Traceback (most recent call last)",
      "Cell \u001b[0;32mIn[1], line 2\u001b[0m\n\u001b[1;32m      1\u001b[0m \u001b[38;5;66;03m# Pipeline de Regressão\u001b[39;00m\n\u001b[0;32m----> 2\u001b[0m \u001b[38;5;28;01mimport\u001b[39;00m\u001b[38;5;250m \u001b[39m\u001b[38;5;21;01mpandas\u001b[39;00m\u001b[38;5;250m \u001b[39m\u001b[38;5;28;01mas\u001b[39;00m\u001b[38;5;250m \u001b[39m\u001b[38;5;21;01mpd\u001b[39;00m\n\u001b[1;32m      3\u001b[0m \u001b[38;5;28;01mfrom\u001b[39;00m\u001b[38;5;250m \u001b[39m\u001b[38;5;21;01msklearn\u001b[39;00m\u001b[38;5;21;01m.\u001b[39;00m\u001b[38;5;21;01mdatasets\u001b[39;00m\u001b[38;5;250m \u001b[39m\u001b[38;5;28;01mimport\u001b[39;00m fetch_california_housing\n\u001b[1;32m      5\u001b[0m \u001b[38;5;66;03m# Carregando os dados\u001b[39;00m\n",
      "\u001b[0;31mModuleNotFoundError\u001b[0m: No module named 'pandas'"
     ]
    }
   ],
   "source": [
    "# Pipeline de Regressão\n",
    "import pandas as pd\n",
    "from sklearn.datasets import fetch_california_housing\n",
    "\n",
    "# Carregando os dados\n",
    "califa_dataset = fetch_california_housing()\n",
    "\n",
    "# Separando atributos preditivos do atributo alvo\n",
    "data = pd.DataFrame(califa_dataset.data, columns=califa_dataset.feature_names)\n",
    "target = califa_dataset.target\n",
    "\n",
    "from sklearn.model_selection import train_test_split\n",
    "\n",
    "# Aplicando a técnica de hold-out \n",
    "train, test, train_labels, test_labels = train_test_split(data,\n",
    "                                                          target,\n",
    "                                                          test_size=0.2,\n",
    "                                                          random_state=12)\n",
    "                                                          \n",
    "# Importando o regressor baseado em Árvore de Decisão\n",
    "from sklearn.tree import DecisionTreeRegressor\n",
    "\n",
    "dt = DecisionTreeRegressor(random_state=42)\n",
    "\n",
    "# Treinando o modelo e coletando predições\n",
    "dt.fit(train, train_labels)\n",
    "preds_dt = dt.predict(test)\n",
    "\n",
    "# Importando as métricas de avaliação para regressão\n",
    "from sklearn.metrics import mean_squared_error, mean_absolute_error, r2_score\n",
    "\n",
    "# Exibindo os valores de avaliação de performance\n",
    "print(f\"MSE: {mean_squared_error(test_labels, preds_dt)}\")\n",
    "print(f\"RMSE: {mean_squared_error(test_labels, preds_dt, squared=False)}\")\n",
    "print(f\"MAE: {mean_absolute_error(test_labels, preds_dt)}\")\n",
    "print(f\"R2_score: {r2_score(test_labels, preds_dt)}\")"
   ]
  },
  {
   "cell_type": "markdown",
   "id": "fc2ba615",
   "metadata": {},
   "source": [
    "## Avaliação para Classificação"
   ]
  },
  {
   "cell_type": "code",
   "execution_count": null,
   "id": "9c7fc84a",
   "metadata": {
    "tags": [
     "remove-output"
    ]
   },
   "outputs": [],
   "source": [
    "# Pipeline de Classificação\n",
    "import pandas as pd\n",
    "\n",
    "# Leitura dos dados\n",
    "df = pd.read_csv('diabetes.csv')\n",
    "\n",
    "# Separando os dados em atributos preditivos (X) e atributo alvo (y)\n",
    "X = df.iloc[:, :-1].values\n",
    "y = df.iloc[:, -1].values\n",
    "\n",
    "from sklearn.model_selection import train_test_split\n",
    "\n",
    "# Aplicando a técnica de hold-out \n",
    "training_set, test_set, train_labels, test_labels = train_test_split(X,  \n",
    "                                                                     y,  \n",
    "                                                                     test_size=0.3,\n",
    "                                                                     random_state=12,\n",
    "                                                                     stratify=y)\n",
    "\n",
    "# Importando o classificador baseado em Árvore de Decisão\n",
    "from sklearn.tree import DecisionTreeClassifier\n",
    "\n",
    "dt = DecisionTreeClassifier(random_state=42)\n",
    "\n",
    "# Treinando o modelo e coletando predições\n",
    "dt.fit(training_set, train_labels)\n",
    "preds_dt = dt.predict(test_set)\n",
    "\n",
    "# Importando as métricas de avaliação para classificação\n",
    "from sklearn.metrics import accuracy_score, f1_score, recall_score, precision_score, roc_auc_score\n",
    "\n",
    "# Exibindo os valores de avaliação de performance\n",
    "print(f\"Acurácia: {accuracy_score(test_labels, preds_dt)}\")\n",
    "print(f\"F1-Score: {f1_score(test_labels, preds_dt)}\")\n",
    "print(f\"Revocação (Recall): {recall_score(test_labels, preds_dt)}\")\n",
    "print(f\"Precisão: {precision_score(test_labels, preds_dt)}\")\n",
    "print(f\"AUC: {roc_auc_score(test_labels, preds_dt)}\")\n",
    "\n",
    "# Utilizando uma função que facilita a conferência de diversas métricas\n",
    "from sklearn.metrics import classification_report\n",
    "\n",
    "print(classification_report(test_labels, preds_dt))"
   ]
  }
 ],
 "metadata": {
  "jupytext": {
   "formats": "md:myst",
   "text_representation": {
    "extension": ".md",
    "format_name": "myst",
    "format_version": 0.13,
    "jupytext_version": "1.11.5"
   }
  },
  "kernelspec": {
   "display_name": "Python 3",
   "language": "python",
   "name": "python3"
  },
  "language_info": {
   "codemirror_mode": {
    "name": "ipython",
    "version": 3
   },
   "file_extension": ".py",
   "mimetype": "text/x-python",
   "name": "python",
   "nbconvert_exporter": "python",
   "pygments_lexer": "ipython3",
   "version": "3.10.10"
  },
  "source_map": [
   13,
   27,
   65,
   70
  ]
 },
 "nbformat": 4,
 "nbformat_minor": 5
}