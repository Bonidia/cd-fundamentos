{
 "cells": [
  {
   "cell_type": "markdown",
   "id": "7adc6fb3",
   "metadata": {},
   "source": [
    "# Conceitos Gerais da Linguagem Python\n",
    "\n",
    "\n",
    "## A Linguagem Python"
   ]
  },
  {
   "cell_type": "code",
   "execution_count": 1,
   "id": "f24459d0",
   "metadata": {},
   "outputs": [
    {
     "name": "stdout",
     "output_type": "stream",
     "text": [
      "Primeiro código!\n"
     ]
    }
   ],
   "source": [
    "print('Primeiro código!')"
   ]
  },
  {
   "cell_type": "markdown",
   "id": "dc2e7883",
   "metadata": {},
   "source": [
    "## Tipos Básicos e Variáveis"
   ]
  },
  {
   "cell_type": "code",
   "execution_count": 2,
   "id": "0dfa330c",
   "metadata": {},
   "outputs": [
    {
     "name": "stdout",
     "output_type": "stream",
     "text": [
      "<class 'int'>\n",
      "<class 'float'>\n",
      "<class 'str'>\n",
      "<class 'bool'>\n"
     ]
    }
   ],
   "source": [
    "valor_int = 3  # Tipo inteiro\n",
    "valor_float = 1.5  # Tipo ponto flutuante\n",
    "string = \"Olá Mundo!\"  # Tipo string\n",
    "var_bool = True  # Tipo booleano\n",
    "\n",
    "print(type(valor_int))\n",
    "print(type(valor_float))\n",
    "print(type(string))\n",
    "print(type(var_bool))"
   ]
  },
  {
   "cell_type": "code",
   "execution_count": 3,
   "id": "b10bcabb",
   "metadata": {},
   "outputs": [
    {
     "name": "stdout",
     "output_type": "stream",
     "text": [
      "16.5\n",
      "<class 'float'>\n"
     ]
    }
   ],
   "source": [
    "valor_int  = 15\n",
    "valor_float = 1.5\n",
    "soma = valor_int + valor_float\n",
    "print(soma)\n",
    "print(type(soma))"
   ]
  },
  {
   "cell_type": "code",
   "execution_count": 4,
   "id": "ef971913",
   "metadata": {},
   "outputs": [
    {
     "name": "stdout",
     "output_type": "stream",
     "text": [
      "100\n",
      "<class 'str'>\n",
      "12\n",
      "<class 'int'>\n",
      "10.0\n",
      "<class 'float'>\n"
     ]
    }
   ],
   "source": [
    "# Conversão de um valor do tipo inteiro para um valor do tipo string\n",
    "a = 100\n",
    "b = str(a)\n",
    "print(b)\n",
    "print(type(b))\n",
    "\n",
    "# Conversão de um valor do tipo float para um valor do tipo inteiro\n",
    "c = 12.0\n",
    "d = int(c)\n",
    "print(d)\n",
    "print(type(d))\n",
    "\n",
    "# Conversão de um valor do tipo inteiro para um valor do tipo float\n",
    "e = 10\n",
    "f = float(e)\n",
    "print(f)\n",
    "print(type(f))"
   ]
  },
  {
   "cell_type": "markdown",
   "id": "86fab8d4",
   "metadata": {},
   "source": [
    "## Expressões"
   ]
  },
  {
   "cell_type": "code",
   "execution_count": 5,
   "id": "29f253b4",
   "metadata": {},
   "outputs": [
    {
     "name": "stdout",
     "output_type": "stream",
     "text": [
      "Soma: 13\n",
      "Subtração: 7\n",
      "Divisão: 3\n",
      "Multiplicação: 30\n"
     ]
    }
   ],
   "source": [
    "a = 10\n",
    "b = 3\n",
    "\n",
    "# Soma do valor de duas variáveis\n",
    "soma = a + b\n",
    "\n",
    "# Subtração do valor de duas variáveis\n",
    "sub = a - b\n",
    "\n",
    "# Divisão do valor de duas variáveis\n",
    "div = a / b\n",
    "\n",
    "# Multiplicação do valor de duas variáveis\n",
    "mult = a * b\n",
    "\n",
    "print('Soma: %d' % (soma))\n",
    "print('Subtração: %d' % (sub))\n",
    "print('Divisão: %d' % (div))\n",
    "print('Multiplicação: %d' % (mult))"
   ]
  },
  {
   "cell_type": "code",
   "execution_count": 6,
   "id": "81580e26",
   "metadata": {},
   "outputs": [
    {
     "name": "stdout",
     "output_type": "stream",
     "text": [
      "Resto: 1\n",
      "Exponencial: 1000\n",
      "Piso da divisão: 3\n"
     ]
    }
   ],
   "source": [
    "# Resto de uma divisão de um valor do tipo inteiro por outro valor do tipo inteiro\n",
    "res = a % b\n",
    "\n",
    "# Resultado de elevar um valor do tipo inteiro a outro valor do tipo inteiro\n",
    "exp = a ** b\n",
    "\n",
    "# Piso, parte inteira de uma divisão de valores do tipo inteiro\n",
    "pis = a // b\n",
    "\n",
    "print('Resto: %d' % (res))\n",
    "print('Exponencial: %d' % (exp))\n",
    "print('Piso da divisão: %d' % (pis))"
   ]
  },
  {
   "cell_type": "code",
   "execution_count": 7,
   "id": "2de60850",
   "metadata": {},
   "outputs": [
    {
     "name": "stdout",
     "output_type": "stream",
     "text": [
      "Meu nome é Robson, tenho 28 anos e 1.85 de altura!\n"
     ]
    }
   ],
   "source": [
    "nome = 'Robson'\n",
    "idade = 28\n",
    "altura = 1.85\n",
    "\n",
    "print('Meu nome é %s, tenho %d anos e %.2f de altura!' % (nome, idade, altura))"
   ]
  },
  {
   "cell_type": "code",
   "execution_count": 8,
   "id": "fe8d1fbf",
   "metadata": {},
   "outputs": [
    {
     "name": "stdout",
     "output_type": "stream",
     "text": [
      "O valor da primeira variável é 2 enquanto o da segunda é 3\n"
     ]
    }
   ],
   "source": [
    "aux_01 = 2\n",
    "aux_02 = 3\n",
    "\n",
    "print('O valor da primeira variável é {} enquanto o da segunda é {}'.format(aux_01, aux_02))"
   ]
  },
  {
   "cell_type": "markdown",
   "id": "9afb5eff",
   "metadata": {},
   "source": [
    "## Operadores Relacionais"
   ]
  },
  {
   "cell_type": "code",
   "execution_count": 9,
   "id": "55a798ae",
   "metadata": {},
   "outputs": [
    {
     "name": "stdout",
     "output_type": "stream",
     "text": [
      "Valor de c: False\n",
      "Valor de d: True\n",
      "Valor de e: False\n",
      "True\n",
      "True\n"
     ]
    }
   ],
   "source": [
    "a = 5\n",
    "b = 2\n",
    "\n",
    "c = a < b\n",
    "d = a > b\n",
    "e = a == b\n",
    "\n",
    "print('Valor de c:', c)\n",
    "print('Valor de d:', d)\n",
    "print('Valor de e:', e)\n",
    "print(a >= b)\n",
    "print(b <= b)"
   ]
  },
  {
   "cell_type": "code",
   "execution_count": 10,
   "id": "de806e94",
   "metadata": {},
   "outputs": [
    {
     "name": "stdout",
     "output_type": "stream",
     "text": [
      "12\n",
      "10\n",
      "5.0\n",
      "10.0\n"
     ]
    }
   ],
   "source": [
    "a = 10\n",
    "b = 2\n",
    "\n",
    "a += b  # a + b\n",
    "print(a)\n",
    "\n",
    "a -= b  # a - b\n",
    "print(a)\n",
    "\n",
    "a /= b  # a / b\n",
    "print(a)\n",
    "\n",
    "a *= b  # a * b\n",
    "print(a)"
   ]
  },
  {
   "cell_type": "code",
   "execution_count": 11,
   "id": "44e3821c",
   "metadata": {
    "tags": [
     "remove-output"
    ]
   },
   "outputs": [
    {
     "ename": "StdinNotImplementedError",
     "evalue": "raw_input was called, but this frontend does not support input requests.",
     "output_type": "error",
     "traceback": [
      "\u001b[0;31m---------------------------------------------------------------------------\u001b[0m",
      "\u001b[0;31mStdinNotImplementedError\u001b[0m                  Traceback (most recent call last)",
      "Cell \u001b[0;32mIn[11], line 1\u001b[0m\n\u001b[0;32m----> 1\u001b[0m nome \u001b[38;5;241m=\u001b[39m \u001b[38;5;28;43minput\u001b[39;49m\u001b[43m(\u001b[49m\u001b[38;5;124;43m'\u001b[39;49m\u001b[38;5;124;43mQual seu nome? \u001b[39;49m\u001b[38;5;124;43m'\u001b[39;49m\u001b[43m)\u001b[49m\n\u001b[1;32m      2\u001b[0m idade \u001b[38;5;241m=\u001b[39m \u001b[38;5;28mint\u001b[39m(\u001b[38;5;28minput\u001b[39m(\u001b[38;5;124m'\u001b[39m\u001b[38;5;124mQual sua idade? \u001b[39m\u001b[38;5;124m'\u001b[39m))\n\u001b[1;32m      3\u001b[0m altura \u001b[38;5;241m=\u001b[39m \u001b[38;5;28mfloat\u001b[39m(\u001b[38;5;28minput\u001b[39m(\u001b[38;5;124m'\u001b[39m\u001b[38;5;124mQual sua altura? \u001b[39m\u001b[38;5;124m'\u001b[39m))\n",
      "File \u001b[0;32m~/miniconda3/lib/python3.10/site-packages/ipykernel/kernelbase.py:1281\u001b[0m, in \u001b[0;36mKernel.raw_input\u001b[0;34m(self, prompt)\u001b[0m\n\u001b[1;32m   1279\u001b[0m \u001b[38;5;28;01mif\u001b[39;00m \u001b[38;5;129;01mnot\u001b[39;00m \u001b[38;5;28mself\u001b[39m\u001b[38;5;241m.\u001b[39m_allow_stdin:\n\u001b[1;32m   1280\u001b[0m     msg \u001b[38;5;241m=\u001b[39m \u001b[38;5;124m\"\u001b[39m\u001b[38;5;124mraw_input was called, but this frontend does not support input requests.\u001b[39m\u001b[38;5;124m\"\u001b[39m\n\u001b[0;32m-> 1281\u001b[0m     \u001b[38;5;28;01mraise\u001b[39;00m StdinNotImplementedError(msg)\n\u001b[1;32m   1282\u001b[0m \u001b[38;5;28;01mreturn\u001b[39;00m \u001b[38;5;28mself\u001b[39m\u001b[38;5;241m.\u001b[39m_input_request(\n\u001b[1;32m   1283\u001b[0m     \u001b[38;5;28mstr\u001b[39m(prompt),\n\u001b[1;32m   1284\u001b[0m     \u001b[38;5;28mself\u001b[39m\u001b[38;5;241m.\u001b[39m_parent_ident[\u001b[38;5;124m\"\u001b[39m\u001b[38;5;124mshell\u001b[39m\u001b[38;5;124m\"\u001b[39m],\n\u001b[1;32m   1285\u001b[0m     \u001b[38;5;28mself\u001b[39m\u001b[38;5;241m.\u001b[39mget_parent(\u001b[38;5;124m\"\u001b[39m\u001b[38;5;124mshell\u001b[39m\u001b[38;5;124m\"\u001b[39m),\n\u001b[1;32m   1286\u001b[0m     password\u001b[38;5;241m=\u001b[39m\u001b[38;5;28;01mFalse\u001b[39;00m,\n\u001b[1;32m   1287\u001b[0m )\n",
      "\u001b[0;31mStdinNotImplementedError\u001b[0m: raw_input was called, but this frontend does not support input requests."
     ]
    }
   ],
   "source": [
    "nome = input('Qual seu nome? ')\n",
    "idade = int(input('Qual sua idade? '))\n",
    "altura = float(input('Qual sua altura? '))\n",
    "peso = float(input('Qual seu peso? '))\n",
    "\n",
    "print('Nome: %s' % nome)\n",
    "print('Idade: %d' % idade)\n",
    "\n",
    "imc = peso / ( altura * altura )\n",
    "print('O IMC =', imc)\n",
    "print('Muito abaixo do peso:', imc < 17)\n",
    "print('Abaixo do peso normal:', imc >= 17 and imc < 18.5)\n",
    "print('Peso dentro do normal:', imc >= 18.5 and imc < 25.0)\n",
    "print('Acima do peso normal:', imc >= 25 and imc < 30)\n",
    "print('Muito acima do peso:', imc >= 30)"
   ]
  },
  {
   "cell_type": "markdown",
   "id": "d9fbe82b",
   "metadata": {},
   "source": [
    "## Comandos Condicionais - if"
   ]
  },
  {
   "cell_type": "code",
   "execution_count": null,
   "id": "5f0fc163",
   "metadata": {
    "tags": [
     "remove-output"
    ]
   },
   "outputs": [],
   "source": [
    "nota = int(input('Digite uma nota: '))\n",
    "\n",
    "if nota < 60:\n",
    "    print('Reprovado')\n",
    "else:\n",
    "    print('Aprovado')"
   ]
  },
  {
   "cell_type": "code",
   "execution_count": null,
   "id": "1acccf30",
   "metadata": {
    "tags": [
     "remove-output"
    ]
   },
   "outputs": [],
   "source": [
    "nota = int(input('Digite uma nota: '))\n",
    "\n",
    "if nota < 30:\n",
    "    print('Reprovado')\n",
    "elif nota <= 50:\n",
    "    print('Recuperação')\n",
    "else:\n",
    "    print('Aprovado')"
   ]
  },
  {
   "cell_type": "code",
   "execution_count": null,
   "id": "cc287d05",
   "metadata": {
    "tags": [
     "remove-output"
    ]
   },
   "outputs": [],
   "source": [
    "n1 = int(input('Digite o primeiro número: '))\n",
    "n2 = int(input('Digite o segundo número: '))\n",
    "\n",
    "if n1 > n2:\n",
    "    print(n1, 'maior que', n2)\n",
    "elif n1 < n2:\n",
    "    print('%d maior que %d' % (n2, n1))\n",
    "else:\n",
    "    print('Os números são iguais')"
   ]
  },
  {
   "cell_type": "markdown",
   "id": "68fb3903",
   "metadata": {},
   "source": [
    "## Comandos de Repetição - while"
   ]
  },
  {
   "cell_type": "code",
   "execution_count": null,
   "id": "f0eb59cb",
   "metadata": {
    "tags": [
     "remove-output"
    ]
   },
   "outputs": [],
   "source": [
    "while (expressão condicional):\n",
    "    bloco de comandos"
   ]
  },
  {
   "cell_type": "code",
   "execution_count": null,
   "id": "86075e35",
   "metadata": {},
   "outputs": [],
   "source": [
    "contador = 1\n",
    "\n",
    "while contador <= 5:\n",
    "    print(contador)\n",
    "    contador += 1"
   ]
  },
  {
   "cell_type": "code",
   "execution_count": null,
   "id": "faa0494f",
   "metadata": {
    "tags": [
     "remove-output"
    ]
   },
   "outputs": [],
   "source": [
    "nota = -1\n",
    "while nota < 0 or nota > 10:\n",
    "    nota = int(input('Digite uma nota válida de 0 a 10: '))\n",
    "\n",
    "print('Nota: %s' % nota)"
   ]
  },
  {
   "cell_type": "markdown",
   "id": "aebf6d17",
   "metadata": {},
   "source": [
    "## Comandos de Repetição - for"
   ]
  },
  {
   "cell_type": "code",
   "execution_count": null,
   "id": "23d245a5",
   "metadata": {
    "tags": [
     "remove-output"
    ]
   },
   "outputs": [],
   "source": [
    "for (número de iterações):\n",
    "    bloco de comandos"
   ]
  },
  {
   "cell_type": "code",
   "execution_count": null,
   "id": "a3244531",
   "metadata": {},
   "outputs": [],
   "source": [
    "print(list(range(5)))\n",
    "print(list(range(1, 5)))\n",
    "print(list(range(2, 10, 3)))"
   ]
  },
  {
   "cell_type": "code",
   "execution_count": null,
   "id": "41545085",
   "metadata": {},
   "outputs": [],
   "source": [
    "for i in range(5):\n",
    "    print('Bem-vindo ao curso de Python!')"
   ]
  },
  {
   "cell_type": "code",
   "execution_count": null,
   "id": "aea41d36",
   "metadata": {},
   "outputs": [],
   "source": [
    "for i in range(0, 5):\n",
    "    print(i)"
   ]
  },
  {
   "cell_type": "code",
   "execution_count": null,
   "id": "8eb66a98",
   "metadata": {},
   "outputs": [],
   "source": [
    "for i in range(0, 10, 2): # Varia de 0 a 10, mas aumentando de 2 em 2\n",
    "    print(i)"
   ]
  },
  {
   "cell_type": "code",
   "execution_count": null,
   "id": "76977e24",
   "metadata": {
    "tags": [
     "remove-output"
    ]
   },
   "outputs": [],
   "source": [
    "total = 0\n",
    "\n",
    "for i in range(0, 5):\n",
    "    num = int(input('Digite um num: '))\n",
    "    total += num\n",
    "\n",
    "print('Soma: %s' % (total))\n",
    "print('Media: %s' % (total/5))"
   ]
  },
  {
   "cell_type": "code",
   "execution_count": null,
   "id": "c1f9731f",
   "metadata": {},
   "outputs": [],
   "source": [
    "tab=int(input('Tabuada do número: '))\n",
    "\n",
    "for i in range(10):\n",
    "    print('%d x %d = %d' % (tab, i + 1, tab * (i + 1)))"
   ]
  },
  {
   "cell_type": "markdown",
   "id": "9539fdd1",
   "metadata": {},
   "source": [
    "## Estruturas de Dados - Listas"
   ]
  },
  {
   "cell_type": "code",
   "execution_count": null,
   "id": "d42b4546",
   "metadata": {},
   "outputs": [],
   "source": [
    "lista = []\n",
    "\n",
    "print(lista)"
   ]
  },
  {
   "cell_type": "code",
   "execution_count": null,
   "id": "1973c6f3",
   "metadata": {},
   "outputs": [],
   "source": [
    "lista_num = [1, 2, 3]\n",
    "lista_nomes = ['André', 'Ângelo', 'Robson']\n",
    "lista_misturada = [37, 'Ângelo', 'Robson', 9, 0, 'Maria', 2]\n",
    "\n",
    "print(lista_num)\n",
    "print(lista_nomes)\n",
    "print(lista_misturada)"
   ]
  },
  {
   "cell_type": "code",
   "execution_count": null,
   "id": "c0d37530",
   "metadata": {},
   "outputs": [],
   "source": [
    "for item in lista_num:\n",
    "    print(item)\n",
    "    \n",
    "print(lista_nomes[0])\n",
    "print(lista_nomes[1])"
   ]
  },
  {
   "cell_type": "code",
   "execution_count": null,
   "id": "efc4d56a",
   "metadata": {},
   "outputs": [],
   "source": [
    "lista = [1, 2, 3, 3, 3, 4, 5, 6, 7]\n",
    "\n",
    "print('Tamanho da lista: %d' % len(lista))\n",
    "\n",
    "lista.append(8)\n",
    "print(lista)\n",
    "\n",
    "lista.pop()\n",
    "print(lista)\n",
    "\n",
    "lista.pop(0)\n",
    "print(lista)\n",
    "\n",
    "lista.remove(2)\n",
    "print(lista)"
   ]
  },
  {
   "cell_type": "code",
   "execution_count": null,
   "id": "4de68f41",
   "metadata": {},
   "outputs": [],
   "source": [
    "lista.insert(0, 1)  # Posição 0, item 1\n",
    "print(lista)\n",
    "\n",
    "print(lista.count(3))\n",
    "\n",
    "print(lista.index(1))\n",
    "\n",
    "lista.clear()\n",
    "print(lista)"
   ]
  },
  {
   "cell_type": "code",
   "execution_count": null,
   "id": "569c43f0",
   "metadata": {},
   "outputs": [],
   "source": [
    "lista = [1, 2, 3, 4, 5]\n",
    "\n",
    "print(lista[::-1])  # Inverte a ordem dos itens em uma lista\n",
    "\n",
    "print(lista[0:2])  # Retorna os valores que estão nas posições do intervalo\n",
    "\n",
    "print(lista[-1])  # Retorna o último item da lista\n",
    "\n",
    "lista.sort()  %# Ordenar\n",
    "\n",
    "print(lista)\n",
    "\n",
    "lista[0] = 2  # Alterar item\n",
    "\n",
    "print(lista)"
   ]
  },
  {
   "cell_type": "markdown",
   "id": "16ad9ad7",
   "metadata": {},
   "source": [
    "## Estruturas de Dados - Tuplas"
   ]
  },
  {
   "cell_type": "code",
   "execution_count": null,
   "id": "45b5cd41",
   "metadata": {},
   "outputs": [],
   "source": [
    "tupla_num = (1, 2, 3, 4)\n",
    "print(tupla_num)"
   ]
  },
  {
   "cell_type": "code",
   "execution_count": null,
   "id": "24043fde",
   "metadata": {},
   "outputs": [],
   "source": [
    "print(tupla_num.count(1))\n",
    "print(tupla_num.index(2))\n",
    "print(len(tupla_num))"
   ]
  },
  {
   "cell_type": "code",
   "execution_count": null,
   "id": "ecb5db3d",
   "metadata": {},
   "outputs": [],
   "source": [
    "# Convertendo tupla em lista\n",
    "tupla_conv = list(tupla_num)\n",
    "\n",
    "# Adicionando um item na última posição\n",
    "tupla_conv.append(5)\n",
    "print(\"Elemento 5 adicionado: %s\" % (tupla_conv))\n",
    "\n",
    "# Removendo o item adicionado\n",
    "tupla_conv.pop()\n",
    "print(\"Elemento 5 removido: %s\" % (tupla_conv))"
   ]
  },
  {
   "cell_type": "markdown",
   "id": "fe31d023",
   "metadata": {},
   "source": [
    "## Estruturas de Dados - Conjuntos"
   ]
  },
  {
   "cell_type": "code",
   "execution_count": null,
   "id": "08b6300d",
   "metadata": {},
   "outputs": [],
   "source": [
    "frutas = ['maçã', 'laranja', 'maçã', 'pera', 'laranja', 'banana']\n",
    "\n",
    "frutas_n_duplicados = set(frutas)\n",
    "\n",
    "print(frutas_n_duplicados)"
   ]
  },
  {
   "cell_type": "markdown",
   "id": "d2e8d76f",
   "metadata": {},
   "source": [
    "## Estruturas de Dados - Dicionários"
   ]
  },
  {
   "cell_type": "code",
   "execution_count": null,
   "id": "1b492061",
   "metadata": {},
   "outputs": [],
   "source": [
    "dic = {}  # chave e valor\n",
    "\n",
    "dic = dict()\n",
    "\n",
    "print(dic)"
   ]
  },
  {
   "cell_type": "code",
   "execution_count": null,
   "id": "d12a6067",
   "metadata": {},
   "outputs": [],
   "source": [
    "# Criação de um dicionário com preço de frutas por kg\n",
    "dic_frutas = {'Maçã': 5.50,\n",
    "              'Banana': 2.50,\n",
    "              'Pera': 6.50,\n",
    "              'Uva': 7.20}\n",
    "\n",
    "# Inserção de um novo item, fruta e seu preço, em um dicionário\n",
    "dic_frutas['Manga'] = 6.20\n",
    "\n",
    "print(dic_frutas)"
   ]
  },
  {
   "cell_type": "code",
   "execution_count": null,
   "id": "48cf0696",
   "metadata": {},
   "outputs": [],
   "source": [
    "# Alteração do preço de uma fruta, banana, armazenada em um dicionário\n",
    "dic_frutas['Banana'] = 1.50\n",
    "print(dic_frutas)"
   ]
  },
  {
   "cell_type": "code",
   "execution_count": null,
   "id": "e3b11a2c",
   "metadata": {},
   "outputs": [],
   "source": [
    "# Consulta do preço de uma fruta armazenada em um dicionário\n",
    "print('Uva: %s' % dic_frutas['Uva'])\n",
    "print('Pera: %s' % dic_frutas['Pera'])"
   ]
  },
  {
   "cell_type": "code",
   "execution_count": null,
   "id": "35957a14",
   "metadata": {
    "tags": [
     "remove-output"
    ]
   },
   "outputs": [],
   "source": [
    "# Criação de um dicionário com o desempenho de atletas\n",
    "atletas = {}  \n",
    "\n",
    "# Atribuição de um nome fictício, início, a um dicionário\n",
    "nome_atleta = 'início'  \n",
    "\n",
    "# Inclusão do nome de atletas em um dicionário\n",
    "while nome_atleta != '': \n",
    "    nome_atleta = input('Atleta: ')\n",
    "    if nome_atleta != '':\n",
    "        saltos = []  # Lista para armazenar a distância dos saltos\n",
    "        for i in range(0, 2):  # 2 saltos\n",
    "            saltos.append(float(input('%s Salto: ' % (i + 1))))\n",
    "        \n",
    "        # Adicionando uma lista de saltos ao dicionário\n",
    "        atletas[nome_atleta] = saltos \n",
    "\n",
    "\n",
    "# Percorrer um dicionário  retornando seus itens  \n",
    "print('\\nResultado Final:')\n",
    "for nome_atleta, saltos in atletas.items():\n",
    "    print('Atleta: %s' % nome_atleta)\n",
    "    print('Saltos: ', str(saltos))\n",
    "    print('Média dos Saltos: %.2f m' % (sum(saltos)/2))"
   ]
  },
  {
   "cell_type": "code",
   "execution_count": null,
   "id": "b45632d8",
   "metadata": {
    "tags": [
     "remove-output"
    ]
   },
   "outputs": [],
   "source": [
    "dic_frutas = {'Maçã': 5.50,\n",
    "              'Banana': 2.50,\n",
    "              'Pera': 6.50}\n",
    "\n",
    "for fruta, valor in dic_frutas.items():\n",
    "    print('Fruta: %s' % fruta)\n",
    "    print('Preço: %s' % valor)"
   ]
  },
  {
   "cell_type": "markdown",
   "id": "1fea17dd",
   "metadata": {},
   "source": [
    "## Funções"
   ]
  },
  {
   "cell_type": "code",
   "execution_count": null,
   "id": "f7016ac9",
   "metadata": {
    "tags": [
     "remove-output"
    ]
   },
   "outputs": [],
   "source": [
    "def nome_funcao(parametro_um, parametro_dois, ...):\n",
    "    comando\n",
    "    ...\n",
    "    comando\n",
    "    return dados"
   ]
  },
  {
   "cell_type": "code",
   "execution_count": null,
   "id": "2e902ce6",
   "metadata": {},
   "outputs": [],
   "source": [
    "# Trecho que define a função\n",
    "def soma(x, y, z):\n",
    "    return x + y +z\n",
    "\n",
    "# Trecho em que a função é chamada\n",
    "s = soma(10, 20, 40)\n",
    "print(s)"
   ]
  },
  {
   "cell_type": "code",
   "execution_count": null,
   "id": "45eafb95",
   "metadata": {},
   "outputs": [],
   "source": [
    "# Trecho que define a função\n",
    "def par_impar(n):\n",
    "    if n % 2 == 0:\n",
    "        return True\n",
    "    else:\n",
    "        return False\n",
    "\n",
    "# Trecho em que a função é chamada\n",
    "print(par_impar(10))\n",
    "print(par_impar(15))"
   ]
  },
  {
   "cell_type": "code",
   "execution_count": null,
   "id": "0fc4a6ca",
   "metadata": {},
   "outputs": [],
   "source": [
    "# Trecho que define a função\n",
    "def imc(nome, idade, altura, peso):\n",
    "    print('Nome: %s' % nome)\n",
    "    print('Idade : %d' % idade)\n",
    "    \n",
    "    imc = peso / ( altura * altura )\n",
    "    print('O IMC = ', imc)\n",
    "\n",
    "    if imc < 17:\n",
    "        print('Muito abaixo do peso')\n",
    "    elif imc >= 17 and imc < 18.5:\n",
    "        print('Abaixo do peso normal')\n",
    "    elif imc >= 18.5 and imc < 25.0:\n",
    "        print('Peso dentro do normal')\n",
    "    elif imc >= 25 and imc < 30:\n",
    "        print('Acima do peso normal')\n",
    "    else:\n",
    "        print('Muito acima do peso')\n",
    "\n",
    "# Trecho em que a função é chamada\n",
    "imc('Robson', 28, 1.85, 98)"
   ]
  },
  {
   "cell_type": "markdown",
   "id": "c311726b",
   "metadata": {},
   "source": [
    "## Funções de Entrada e Saída"
   ]
  },
  {
   "cell_type": "code",
   "execution_count": null,
   "id": "00ee5733",
   "metadata": {},
   "outputs": [],
   "source": [
    "doc = open('doc.txt', 'r')\n",
    "for linha in doc.readlines():\n",
    "    print(linha)\n",
    "doc.close()"
   ]
  },
  {
   "cell_type": "code",
   "execution_count": null,
   "id": "3bdd31c6",
   "metadata": {},
   "outputs": [],
   "source": [
    "# Utilização da função split() para decompor uma \\textit{string} em uma lista.\n",
    "doc = open('doc.txt', 'r')\n",
    "\n",
    "# Decomposição do \\textit{string} separando componentes por vírgulas para gerar um arquivo do tipo csv\n",
    "for linha in doc:\n",
    "    valores = linha.split(',')\n",
    "    print(valores[0], valores[1], valores[2], valores[3])"
   ]
  },
  {
   "cell_type": "code",
   "execution_count": null,
   "id": "5fe4a2bd",
   "metadata": {},
   "outputs": [],
   "source": [
    "doc = open('doc.txt', 'a')\n",
    "\n",
    "# Adição de uma nova linha\n",
    "doc.write('Iris, ')\n",
    "doc.write('01414, ')\n",
    "doc.write('8.5, ')\n",
    "doc.write('7.5 ')\n",
    "doc.write(\"\\n\")  # Quebra de linhas\n",
    "doc.close()\n",
    "\n",
    "# Leitura do arquivo com a nova linha\n",
    "doc = open('doc.txt', 'r')\n",
    "for linha in doc.readlines():\n",
    "    print(linha)\n",
    "doc.close()"
   ]
  }
 ],
 "metadata": {
  "jupytext": {
   "formats": "md:myst",
   "text_representation": {
    "extension": ".md",
    "format_name": "myst",
    "format_version": 0.13,
    "jupytext_version": "1.11.5"
   }
  },
  "kernelspec": {
   "display_name": "Python 3",
   "language": "python",
   "name": "python3"
  },
  "language_info": {
   "codemirror_mode": {
    "name": "ipython",
    "version": 3
   },
   "file_extension": ".py",
   "mimetype": "text/x-python",
   "name": "python",
   "nbconvert_exporter": "python",
   "pygments_lexer": "ipython3",
   "version": "3.10.10"
  },
  "source_map": [
   13,
   20,
   22,
   26,
   38,
   46,
   64,
   68,
   90,
   105,
   113,
   118,
   122,
   137,
   154,
   171,
   175,
   185,
   197,
   208,
   212,
   218,
   226,
   233,
   237,
   243,
   249,
   254,
   259,
   264,
   276,
   281,
   285,
   291,
   301,
   309,
   327,
   339,
   355,
   359,
   364,
   370,
   381,
   385,
   391,
   395,
   403,
   416,
   422,
   428,
   456,
   465,
   469,
   478,
   488,
   501,
   523,
   527,
   534,
   544
  ]
 },
 "nbformat": 4,
 "nbformat_minor": 5
}