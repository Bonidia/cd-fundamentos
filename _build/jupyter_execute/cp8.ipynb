{
 "cells": [
  {
   "cell_type": "markdown",
   "id": "a2e841eb",
   "metadata": {},
   "source": [
    "# Modelagem de Dados\n",
    "\n",
    "```{admonition} Importante\n",
    ":class: tip\n",
    "Para execução dos códigos, é necessário instalar as seguintes bibliotecas: \n",
    "\n",
    " - *!pip install -U scikit-learn*\n",
    "```\n",
    "\n",
    "## Aplicação dos Algoritmos de Modelagem: Python"
   ]
  },
  {
   "cell_type": "code",
   "execution_count": 1,
   "id": "f2f12e6f",
   "metadata": {
    "tags": [
     "remove-output"
    ]
   },
   "outputs": [
    {
     "ename": "ModuleNotFoundError",
     "evalue": "No module named 'pandas'",
     "output_type": "error",
     "traceback": [
      "\u001b[0;31m---------------------------------------------------------------------------\u001b[0m",
      "\u001b[0;31mModuleNotFoundError\u001b[0m                       Traceback (most recent call last)",
      "Cell \u001b[0;32mIn[1], line 2\u001b[0m\n\u001b[1;32m      1\u001b[0m \u001b[38;5;66;03m# Pipeline de Classificação\u001b[39;00m\n\u001b[0;32m----> 2\u001b[0m \u001b[38;5;28;01mimport\u001b[39;00m\u001b[38;5;250m \u001b[39m\u001b[38;5;21;01mpandas\u001b[39;00m\u001b[38;5;250m \u001b[39m\u001b[38;5;28;01mas\u001b[39;00m\u001b[38;5;250m \u001b[39m\u001b[38;5;21;01mpd\u001b[39;00m\n\u001b[1;32m      4\u001b[0m \u001b[38;5;66;03m# Fazendo a leitura dos dados\u001b[39;00m\n\u001b[1;32m      5\u001b[0m df \u001b[38;5;241m=\u001b[39m pd\u001b[38;5;241m.\u001b[39mread_csv(\u001b[38;5;124m'\u001b[39m\u001b[38;5;124mdiabetes.csv\u001b[39m\u001b[38;5;124m'\u001b[39m)\n",
      "\u001b[0;31mModuleNotFoundError\u001b[0m: No module named 'pandas'"
     ]
    }
   ],
   "source": [
    "# Pipeline de Classificação\n",
    "import pandas as pd\n",
    "\n",
    "# Fazendo a leitura dos dados\n",
    "df = pd.read_csv('diabetes.csv')\n",
    "\n",
    "# Utilizando hold-out como técnica de re-amostragem\n",
    "from sklearn.model_selection import train_test_split\n",
    "\n",
    "# Separando os dados em atributos preditivos (X) e atributo alvo (y)\n",
    "X = df.iloc[:, :-1].values\n",
    "y = df.iloc[:, -1].values\n",
    "\n",
    "# Aplicando a técnica de hold-out \n",
    "training_set, test_set, train_labels, test_labels = train_test_split(X,  \n",
    "                                                                     y,  \n",
    "                                                                     test_size=0.3,\n",
    "                                                                     random_state=12,\n",
    "                                                                     stratify=y)\n",
    "\n",
    "# Importando o classificador baseado em Árvore de Decisão\n",
    "from sklearn.tree import DecisionTreeClassifier\n",
    "\n",
    "# Inicializando o classificador\n",
    "dt = DecisionTreeClassifier(random_state=42)\n",
    "\n",
    "# Ajustando o modelo aos dados\n",
    "dt.fit(training_set, train_labels)\n",
    "\n",
    "# Coletando os valores previstos para o conjunto de teste\n",
    "preds_dt = dt.predict(test_set)\n",
    "\n",
    "# Importando a métrica de acurácia para avaliação das respostas\n",
    "from sklearn.metrics import accuracy_score\n",
    "\n",
    "# Calculando a acurácia com base nas respostas esperadas\n",
    "print(accuracy_score(preds_dt, test_labels))"
   ]
  },
  {
   "cell_type": "code",
   "execution_count": null,
   "id": "87d282af",
   "metadata": {
    "tags": [
     "remove-output"
    ]
   },
   "outputs": [],
   "source": [
    "# Pipeline de Regressão\n",
    "from sklearn.datasets import fetch_california_housing\n",
    "\n",
    "# Carregando os dados\n",
    "califa_dataset = fetch_california_housing()\n",
    "\n",
    "# Separando atributos preditivos do atributo alvo\n",
    "data = pd.DataFrame(califa_dataset.data, columns=califa_dataset.feature_names)\n",
    "target = califa_dataset.target\n",
    "\n",
    "from sklearn.model_selection import train_test_split\n",
    "\n",
    "# Aplicando a técnica de hold-out \n",
    "train, test, train_labels, test_labels = train_test_split(data,\n",
    "                                                          target,\n",
    "                                                          test_size=0.2,\n",
    "                                                          random_state=12)\n",
    "                                                          \n",
    "# Importando o regressor baseado em Árvore de Decisão\n",
    "from sklearn.tree import DecisionTreeRegressor\n",
    "\n",
    "# Inicializando o modelo\n",
    "dt = DecisionTreeRegressor(random_state=42)\n",
    "\n",
    "# Ajustando o modelo aos dados\n",
    "dt.fit(train, train_labels)\n",
    "\n",
    "# Coletando os valores previstos para o conjunto de teste\n",
    "preds_dt = dt.predict(test)\n",
    "\n",
    "# Importando a métrica do erro médio quadrático para avaliação do desempenho\n",
    "from sklearn.metrics import mean_squared_error\n",
    "\n",
    "# Calculando o erro das predições com base no valor esperado\n",
    "print(mean_squared_error(test_labels, preds_dt))"
   ]
  }
 ],
 "metadata": {
  "jupytext": {
   "formats": "md:myst",
   "text_representation": {
    "extension": ".md",
    "format_name": "myst",
    "format_version": 0.13,
    "jupytext_version": "1.11.5"
   }
  },
  "kernelspec": {
   "display_name": "Python 3",
   "language": "python",
   "name": "python3"
  },
  "language_info": {
   "codemirror_mode": {
    "name": "ipython",
    "version": 3
   },
   "file_extension": ".py",
   "mimetype": "text/x-python",
   "name": "python",
   "nbconvert_exporter": "python",
   "pygments_lexer": "ipython3",
   "version": "3.10.10"
  },
  "source_map": [
   13,
   27,
   68
  ]
 },
 "nbformat": 4,
 "nbformat_minor": 5
}